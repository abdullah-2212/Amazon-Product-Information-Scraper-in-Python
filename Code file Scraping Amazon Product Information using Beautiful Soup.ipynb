{
 "cells": [
  {
   "cell_type": "code",
   "execution_count": 9,
   "metadata": {
    "id": "sQ2-Eo8aRM66"
   },
   "outputs": [],
   "source": [
    "from bs4 import BeautifulSoup\n",
    "import requests"
   ]
  },
  {
   "cell_type": "code",
   "execution_count": 11,
   "metadata": {
    "id": "Ts7oOowDRdD5"
   },
   "outputs": [],
   "source": [
    "def main(URL):\n",
    "    # opening our output file in append mode\n",
    "    File = open(\"out.csv\", \"a\")\n",
    "\n",
    "    # specifying user agent, You can use other user agents\n",
    "    # available on the internet\n",
    "    HEADERS = {\n",
    "        'User-Agent':'Mozilla/5.0 (X11; Linux x86_64) AppleWebKit/537.36 (KHTML, like Gecko) Chrome/44.0.2403.157 Safari/537.36',\n",
    "        'Accept-Language': 'en-US, en;q=0.5'\n",
    "    }\n",
    "\n",
    "    # Making the HTTP Request\n",
    "    webpage = requests.get(URL, headers=HEADERS)\n",
    "\n",
    "    # Creating the Soup Object containing all data\n",
    "    soup = BeautifulSoup(webpage.content, \"lxml\")\n",
    "\n",
    "    # retrieving product title\n",
    "    try:\n",
    "        # Outer Tag Object\n",
    "        title = soup.find(\"span\", attrs={\n",
    "            'id': 'productTitle'\n",
    "        })\n",
    "\n",
    "        # Inner NavigableString Object\n",
    "        title_value = title.string\n",
    "\n",
    "        # Title as a string value\n",
    "        title_string = title_value.strip().replace(',', '')\n",
    "\n",
    "    except AttributeError:\n",
    "        title_string = \"NA\"\n",
    "    print(\"product Title = \", title_string)\n",
    "\n",
    "    # saving the title in the file\n",
    "    File.write(f\"{title_string},\")\n",
    "\n",
    "    # retrieving price\n",
    "    try:\n",
    "        price = soup.find(\"span\", attrs={\n",
    "            'id': 'priceblock_ourprice'\n",
    "        }).string.strip().replace(',', '')\n",
    "        # we are omitting unnecessary spaces\n",
    "        # and commas form our string\n",
    "    except AttributeError:\n",
    "        price = \"NA\"\n",
    "    print(\"Products price = \", price)\n",
    "\n",
    "    # saving\n",
    "    File.write(f\"{price},\")\n",
    "\n",
    "    # retrieving product rating\n",
    "    try:\n",
    "        rating = soup.find(\"i\", attrs={\n",
    "                           'class': 'a-icon a-icon-star a-star-4-5'\n",
    "        }).string.strip().replace(',', '')\n",
    "\n",
    "    except AttributeError:\n",
    "\n",
    "        try:\n",
    "            rating = soup.find(\"span\", attrs={\n",
    "                'class': 'a-icon-alt'\n",
    "            }).string.strip().replace(',', '')\n",
    "        except:\n",
    "            rating = \"NA\"\n",
    "    print(\"Overall rating = \", rating)\n",
    "\n",
    "    File.write(f\"{rating},\")\n",
    "\n",
    "    try:\n",
    "        review_count = soup.find(\"span\", attrs={\n",
    "            'id': 'acrCustomerReviewText'\n",
    "        }).string.strip().replace(',', '')\n",
    "\n",
    "    except AttributeError:\n",
    "        review_count = \"NA\"\n",
    "    print(\"Total reviews = \", review_count)\n",
    "    File.write(f\"{review_count},\")\n",
    "\n",
    "    # print availablility status\n",
    "    try:\n",
    "        available = soup.find(\"div\", attrs={'id': 'availability'})\n",
    "        available = available.find(\"span\").string.strip().replace(',', '')\n",
    "\n",
    "    except AttributeError:\n",
    "        available = \"NA\"\n",
    "    print(\"Availability = \", available)\n",
    "\n",
    "    # saving the availability and closing the line\n",
    "    File.write(f\"{available},\\n\")\n",
    "\n",
    "    # closing the file\n",
    "    File.close()"
   ]
  },
  {
   "cell_type": "code",
   "execution_count": 13,
   "metadata": {
    "colab": {
     "base_uri": "https://localhost:8080/"
    },
    "id": "BIsFP8iKT_bj",
    "outputId": "6042e1eb-8f0f-420a-e380-9c5db1efe171"
   },
   "outputs": [
    {
     "name": "stdout",
     "output_type": "stream",
     "text": [
      "product Title =  Dremel - 3D40-FLX-EDU DigiLab 3D40 Flex 3D Printer w/Extra Supplies 30 Lesson Plans Professional Development Course Flexible Build Plate Automated 9-Point Leveling PC & MAC OS Chromebook iPad Compatible\n",
      "Products price =  NA\n",
      "Overall rating =  3.7 out of 5 stars\n",
      "Total reviews =  46 ratings\n",
      "Availability =  NA\n"
     ]
    }
   ],
   "source": [
    "if __name__ == '__main__':\n",
    "    main(\"https://www.amazon.com/Dremel-Education-Accessories-Professional-Development/dp/B07KZ8XNDT\")"
   ]
  },
  {
   "cell_type": "code",
   "execution_count": null,
   "metadata": {
    "id": "e7OrRzPNUDVo"
   },
   "outputs": [],
   "source": []
  }
 ],
 "metadata": {
  "colab": {
   "provenance": []
  },
  "kernelspec": {
   "display_name": "Python 3 (ipykernel)",
   "language": "python",
   "name": "python3"
  },
  "language_info": {
   "codemirror_mode": {
    "name": "ipython",
    "version": 3
   },
   "file_extension": ".py",
   "mimetype": "text/x-python",
   "name": "python",
   "nbconvert_exporter": "python",
   "pygments_lexer": "ipython3",
   "version": "3.12.4"
  }
 },
 "nbformat": 4,
 "nbformat_minor": 4
}
